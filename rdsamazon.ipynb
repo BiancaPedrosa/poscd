{
 "cells": [
  {
   "cell_type": "markdown",
   "metadata": {},
   "source": [
    "# Sistema de clubes de futebol\n",
    "![DER](futebol.png)\n"
   ]
  },
  {
   "cell_type": "markdown",
   "metadata": {},
   "source": [
    "# Banco de Dados AWS RDS\n",
    "![RDS](rdsfutebol.png)"
   ]
  },
  {
   "cell_type": "code",
   "execution_count": 1,
   "metadata": {},
   "outputs": [
    {
     "name": "stdout",
     "output_type": "stream",
     "text": [
      "Requirement already satisfied: pymysql in /Users/biancapedrosa/opt/anaconda3/lib/python3.8/site-packages (1.0.2)\r\n"
     ]
    }
   ],
   "source": [
    "!pip install pymysql\n",
    "import pymysql"
   ]
  },
  {
   "cell_type": "code",
   "execution_count": 19,
   "metadata": {},
   "outputs": [],
   "source": [
    "conn = pymysql.connect(\n",
    "    host='database-1.ccihurqz7isd.us-east-1.rds.amazonaws.com',\n",
    "    port=int(3306),\n",
    "    user=\"root\",\n",
    "    passwd=\"rootroot\",\n",
    "    db=\"futebol\",\n",
    "    charset='utf8')"
   ]
  },
  {
   "cell_type": "code",
   "execution_count": 20,
   "metadata": {},
   "outputs": [],
   "source": [
    "cursor=conn.cursor()"
   ]
  },
  {
   "cell_type": "code",
   "execution_count": 21,
   "metadata": {},
   "outputs": [],
   "source": [
    "clubes= cursor.execute('''select nome from Clube limit 10''')"
   ]
  },
  {
   "cell_type": "code",
   "execution_count": 22,
   "metadata": {},
   "outputs": [
    {
     "data": {
      "text/plain": [
       "(('Internacional',),\n",
       " ('Santos',),\n",
       " ('Atlético Mineiro',),\n",
       " ('Vasco',),\n",
       " ('Palmeiras',),\n",
       " ('Flamengo',),\n",
       " ('Grêmio',),\n",
       " ('Corinthians',),\n",
       " ('São Paulo',),\n",
       " ('Santos',))"
      ]
     },
     "execution_count": 22,
     "metadata": {},
     "output_type": "execute_result"
    }
   ],
   "source": [
    "cursor.fetchall()"
   ]
  },
  {
   "cell_type": "code",
   "execution_count": 23,
   "metadata": {},
   "outputs": [],
   "source": [
    "#juncao\n",
    "sql = '''select Jogador.nome from Clube inner join Jogador on Clube.idClube = Jogador.idClube where Clube.nome=\"Flamengo\" limit 10'''\n",
    "jogadores = cursor.execute(sql)"
   ]
  },
  {
   "cell_type": "code",
   "execution_count": 24,
   "metadata": {},
   "outputs": [
    {
     "data": {
      "text/plain": [
       "(('\\tDenis César de Matos\\t',),\n",
       " ('\\tjonatas albu\\t',),\n",
       " ('\\tLeco Soares\\t',),\n",
       " ('\\tMarco Antônio Paes dos Santos\\t',),\n",
       " ('\\tCamargo Neto\\t',),\n",
       " ('\\tArghus\\t',),\n",
       " ('\\tAdaílton José dos Santos Filho\\t',),\n",
       " ('\\tBorges\\t',),\n",
       " ('\\tDaniel Alves\\t',),\n",
       " ('\\tEvanílson\\t',))"
      ]
     },
     "execution_count": 24,
     "metadata": {},
     "output_type": "execute_result"
    }
   ],
   "source": [
    "cursor.fetchall()"
   ]
  },
  {
   "cell_type": "code",
   "execution_count": 8,
   "metadata": {},
   "outputs": [],
   "source": [
    "conn.commit()"
   ]
  },
  {
   "cell_type": "code",
   "execution_count": null,
   "metadata": {},
   "outputs": [],
   "source": []
  }
 ],
 "metadata": {
  "kernelspec": {
   "display_name": "Python 3",
   "language": "python",
   "name": "python3"
  },
  "language_info": {
   "codemirror_mode": {
    "name": "ipython",
    "version": 3
   },
   "file_extension": ".py",
   "mimetype": "text/x-python",
   "name": "python",
   "nbconvert_exporter": "python",
   "pygments_lexer": "ipython3",
   "version": "3.8.5"
  }
 },
 "nbformat": 4,
 "nbformat_minor": 4
}
