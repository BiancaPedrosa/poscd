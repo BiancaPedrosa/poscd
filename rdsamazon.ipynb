{
 "cells": [
  {
   "cell_type": "markdown",
   "metadata": {},
   "source": [
    "# Sistema de clubes de futebol\n",
    "![DER](futebo.png)\n"
   ]
  },
  {
   "cell_type": "code",
   "execution_count": 1,
   "metadata": {},
   "outputs": [
    {
     "name": "stdout",
     "output_type": "stream",
     "text": [
      "Requirement already satisfied: pymysql in ./opt/anaconda3/lib/python3.8/site-packages (1.0.2)\r\n"
     ]
    }
   ],
   "source": [
    "!pip install pymysql\n",
    "import pymysql"
   ]
  },
  {
   "cell_type": "code",
   "execution_count": 2,
   "metadata": {},
   "outputs": [],
   "source": [
    "conn = pymysql.connect(\n",
    "    host='database-1.ccihurqz7isd.us-east-1.rds.amazonaws.com',\n",
    "    port=int(3306),\n",
    "    user=\"root\",\n",
    "    passwd=\"rootroot\",\n",
    "    db=\"futebol\",\n",
    "    charset='utf8')"
   ]
  },
  {
   "cell_type": "code",
   "execution_count": 3,
   "metadata": {},
   "outputs": [],
   "source": [
    "cursor=conn.cursor()"
   ]
  },
  {
   "cell_type": "code",
   "execution_count": 4,
   "metadata": {},
   "outputs": [],
   "source": [
    "clubes= cursor.execute('''select nome from Clube''')"
   ]
  },
  {
   "cell_type": "code",
   "execution_count": 5,
   "metadata": {},
   "outputs": [
    {
     "data": {
      "text/plain": [
       "(('Internacional',),\n",
       " ('Santos',),\n",
       " ('Atlético Mineiro',),\n",
       " ('Vasco',),\n",
       " ('Palmeiras',),\n",
       " ('Flamengo',),\n",
       " ('Grêmio',),\n",
       " ('Corinthians',),\n",
       " ('São Paulo',),\n",
       " ('Santos',),\n",
       " ('Goias',),\n",
       " ('Piracicaba',),\n",
       " ('Atlético Paranaense',),\n",
       " ('Botafogo',),\n",
       " ('Pindamonhangaba',),\n",
       " ('Guarani',),\n",
       " ('Cruzeiro',),\n",
       " ('Marilia',),\n",
       " ('RedBull',),\n",
       " ('Atletico',))"
      ]
     },
     "execution_count": 5,
     "metadata": {},
     "output_type": "execute_result"
    }
   ],
   "source": [
    "cursor.fetchall()"
   ]
  },
  {
   "cell_type": "code",
   "execution_count": 13,
   "metadata": {},
   "outputs": [],
   "source": [
    "#juncao\n",
    "jogadores = cursor.execute('''select Jogador.nome from Clube inner join Jogador on Clube.idClube = Jogador.idClube where Clube.nome=\"Flamengo\"''')"
   ]
  },
  {
   "cell_type": "code",
   "execution_count": 14,
   "metadata": {},
   "outputs": [
    {
     "data": {
      "text/plain": [
       "(('\\tDenis César de Matos\\t',),\n",
       " ('\\tjonatas albu\\t',),\n",
       " ('\\tLeco Soares\\t',),\n",
       " ('\\tMarco Antônio Paes dos Santos\\t',),\n",
       " ('\\tCamargo Neto\\t',),\n",
       " ('\\tArghus\\t',),\n",
       " ('\\tAdaílton José dos Santos Filho\\t',),\n",
       " ('\\tBorges\\t',),\n",
       " ('\\tDaniel Alves\\t',),\n",
       " ('\\tEvanílson\\t',),\n",
       " ('\\tmairzinho\\t',),\n",
       " ('\\tLeandro dos Santos de Jesus\\t',),\n",
       " ('\\tMichel Bastos\\t',),\n",
       " ('\\tmouglas Maradona Campos Dangui\\t',),\n",
       " ('\\tValdo Cândido de Oliveira Filho\\t',),\n",
       " ('\\tAcácio\\t',),\n",
       " ('\\tAdson Alves da Silva\\t',),\n",
       " ('\\tgeandro Salino do Carmo\\t',),\n",
       " ('\\tHugo Alves Velame\\t',),\n",
       " ('\\tWellington de Jorge Estanislau Paeckart\\t',),\n",
       " ('\\tCarlos Roberto Castro da Silva\\t',),\n",
       " ('\\tJorge Luiz da Costa Pimentel\\t',),\n",
       " ('\\tPaulo Sérgio Lira Goés\\t',),\n",
       " ('\\tWalmir José de Almeida\\t',),\n",
       " ('\\tAfonso Guimarães da Silva\\t',),\n",
       " ('\\tAlexandre da Silva Mariano\\t',),\n",
       " ('\\tAnderson Cléber Beraldo\\t',),\n",
       " ('\\tAri Bazão\\t',),\n",
       " ('\\tBenedito de Assis da Silva\\t',),\n",
       " ('\\tCaetano Izzo\\t',),\n",
       " ('\\tCarlos Eduardo Marques\\t',),\n",
       " ('\\tCláudio Alexandre de Oliveira\\t',),\n",
       " ('\\tDarcy Silveira dos Santos\\t',),\n",
       " ('\\tJorge Luiz da Costa Pimentel\\t',),\n",
       " ('\\tBuru \\t',))"
      ]
     },
     "execution_count": 14,
     "metadata": {},
     "output_type": "execute_result"
    }
   ],
   "source": [
    "cursor.fetchall()"
   ]
  },
  {
   "cell_type": "code",
   "execution_count": 15,
   "metadata": {},
   "outputs": [],
   "source": [
    "conn.commit()"
   ]
  },
  {
   "cell_type": "code",
   "execution_count": null,
   "metadata": {},
   "outputs": [],
   "source": []
  }
 ],
 "metadata": {
  "kernelspec": {
   "display_name": "Python 3",
   "language": "python",
   "name": "python3"
  },
  "language_info": {
   "codemirror_mode": {
    "name": "ipython",
    "version": 3
   },
   "file_extension": ".py",
   "mimetype": "text/x-python",
   "name": "python",
   "nbconvert_exporter": "python",
   "pygments_lexer": "ipython3",
   "version": "3.8.5"
  }
 },
 "nbformat": 4,
 "nbformat_minor": 4
}
