{
 "cells": [
  {
   "cell_type": "markdown",
   "metadata": {},
   "source": [
    "# Sistema de clubes de futebol\n",
    "![DER](futebo.png)\n"
   ]
  },
  {
   "cell_type": "code",
   "execution_count": null,
   "metadata": {},
   "outputs": [],
   "source": [
    "!pip install pymysql\n",
    "import pymysql"
   ]
  },
  {
   "cell_type": "code",
   "execution_count": 2,
   "metadata": {},
   "outputs": [],
   "source": [
    "conn = pymysql.connect(\n",
    "    host='database-1.ccihurqz7isd.us-east-1.rds.amazonaws.com',\n",
    "    port=int(3306),\n",
    "    user=\"root\",\n",
    "    passwd=\"rootroot\",\n",
    "    db=\"futebol\",\n",
    "    charset='utf8')"
   ]
  },
  {
   "cell_type": "code",
   "execution_count": 3,
   "metadata": {},
   "outputs": [],
   "source": [
    "cursor=conn.cursor()"
   ]
  },
  {
   "cell_type": "code",
   "execution_count": 4,
   "metadata": {},
   "outputs": [],
   "source": [
    "clubes= cursor.execute('''select nome from Clube''')"
   ]
  },
  {
   "cell_type": "code",
   "execution_count": 5,
   "metadata": {},
   "outputs": [
    {
     "data": {
      "text/plain": [
       "(('Internacional',),\n",
       " ('Santos',),\n",
       " ('Atlético Mineiro',),\n",
       " ('Vasco',),\n",
       " ('Palmeiras',),\n",
       " ('Flamengo',),\n",
       " ('Grêmio',),\n",
       " ('Corinthians',),\n",
       " ('São Paulo',),\n",
       " ('Santos',),\n",
       " ('Goias',),\n",
       " ('Piracicaba',),\n",
       " ('Atlético Paranaense',),\n",
       " ('Botafogo',),\n",
       " ('Pindamonhangaba',),\n",
       " ('Guarani',),\n",
       " ('Cruzeiro',),\n",
       " ('Marilia',),\n",
       " ('RedBull',),\n",
       " ('Atletico',))"
      ]
     },
     "execution_count": 5,
     "metadata": {},
     "output_type": "execute_result"
    }
   ],
   "source": [
    "cursor.fetchall()"
   ]
  },
  {
   "cell_type": "code",
   "execution_count": 13,
   "metadata": {},
   "outputs": [],
   "source": [
    "#juncao\n",
    "jogadores = cursor.execute('''select Jogador.nome,Clube.nome from Clube inner join Jogador on Clube.idClube = Jogador.idClube''')"
   ]
  },
  {
   "cell_type": "code",
   "execution_count": 14,
   "metadata": {},
   "outputs": [
    {
     "data": {
      "text/plain": [
       "()"
      ]
     },
     "execution_count": 14,
     "metadata": {},
     "output_type": "execute_result"
    }
   ],
   "source": [
    "cursor.fetchall()"
   ]
  },
  {
   "cell_type": "code",
   "execution_count": null,
   "metadata": {},
   "outputs": [],
   "source": []
  }
 ],
 "metadata": {
  "kernelspec": {
   "display_name": "Python 3",
   "language": "python",
   "name": "python3"
  },
  "language_info": {
   "codemirror_mode": {
    "name": "ipython",
    "version": 3
   },
   "file_extension": ".py",
   "mimetype": "text/x-python",
   "name": "python",
   "nbconvert_exporter": "python",
   "pygments_lexer": "ipython3",
   "version": "3.8.5"
  }
 },
 "nbformat": 4,
 "nbformat_minor": 4
}
